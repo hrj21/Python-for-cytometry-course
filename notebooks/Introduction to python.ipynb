{
 "cells": [
  {
   "cell_type": "markdown",
   "metadata": {},
   "source": [
    "# Introduction to python \n",
    "\n",
    "## Table of contents\n",
    "1. [What is python?](#what_is_python)\n",
    "2. [Using python for arithmetic](#arithmetic)\n",
    "3. [Objects](#objects)\n",
    "4. [Data types](#classes)\n",
    "5. [Data structures](#structures)\n"
   ]
  },
  {
   "cell_type": "markdown",
   "metadata": {},
   "source": [
    "## What is python? <a name=\"what_is_python\"></a>\n",
    "Python is a general purpose programming language that is also excellent for data analysis. It allows you to analyse and plot virtually any kind of data with complete flexibility. Python has many similarities to the R statistical programming language, but has important syntactical differences. Most people will write python code in an *integrated development environment* (IDE), which is an application that just gives you some additional tools to make programming easier. There are many IDEs you could use for python, but I would suggest either [Positron](https://github.com/posit-dev/positron/releases) or [VS Code](https://code.visualstudio.com/download) and following each's guidance on how to set them up with python.\n",
    "\n",
    "I'm using VS Code and I went to File > Open Folder... and selected the folder where I cloned this repository into, so that my working directory is set to the cloned directory.\n"
   ]
  },
  {
   "cell_type": "markdown",
   "metadata": {},
   "source": [
    "## Using python for arithmetic <a name=\"arithmetic\"></a>\n",
    "Let's start with some basic arithmetic."
   ]
  },
  {
   "cell_type": "code",
   "execution_count": 10,
   "metadata": {},
   "outputs": [
    {
     "data": {
      "text/plain": [
       "4"
      ]
     },
     "execution_count": 10,
     "metadata": {},
     "output_type": "execute_result"
    }
   ],
   "source": [
    "2 + 2"
   ]
  },
  {
   "cell_type": "code",
   "execution_count": 11,
   "metadata": {},
   "outputs": [
    {
     "data": {
      "text/plain": [
       "-1"
      ]
     },
     "execution_count": 11,
     "metadata": {},
     "output_type": "execute_result"
    }
   ],
   "source": [
    "7 - 8"
   ]
  },
  {
   "cell_type": "code",
   "execution_count": 12,
   "metadata": {},
   "outputs": [
    {
     "data": {
      "text/plain": [
       "24"
      ]
     },
     "execution_count": 12,
     "metadata": {},
     "output_type": "execute_result"
    }
   ],
   "source": [
    "4 * 6"
   ]
  },
  {
   "cell_type": "code",
   "execution_count": 13,
   "metadata": {},
   "outputs": [
    {
     "data": {
      "text/plain": [
       "12.0"
      ]
     },
     "execution_count": 13,
     "metadata": {},
     "output_type": "execute_result"
    }
   ],
   "source": [
    "144 / 12"
   ]
  },
  {
   "cell_type": "markdown",
   "metadata": {},
   "source": [
    "Notice that raising one number to the power of another number is different than in R."
   ]
  },
  {
   "cell_type": "code",
   "execution_count": 14,
   "metadata": {},
   "outputs": [
    {
     "data": {
      "text/plain": [
       "134217728"
      ]
     },
     "execution_count": 14,
     "metadata": {},
     "output_type": "execute_result"
    }
   ],
   "source": [
    "8 ** 9"
   ]
  },
  {
   "cell_type": "code",
   "execution_count": 15,
   "metadata": {},
   "outputs": [
    {
     "data": {
      "text/plain": [
       "130"
      ]
     },
     "execution_count": 15,
     "metadata": {},
     "output_type": "execute_result"
    }
   ],
   "source": [
    "2 + 2 * (2 ** 6) # this is a comment"
   ]
  },
  {
   "cell_type": "markdown",
   "metadata": {},
   "source": [
    "Note that in python, anything after # on a line is a comment, and is not interpreted by python. This allows you to write human readable comments explaining what you did and why."
   ]
  },
  {
   "cell_type": "markdown",
   "metadata": {},
   "source": [
    "## Objects <a name=\"objects\"></a>\n",
    "You can store the result of some kind of computation in R as an object, so that you can call the result later in the script.\n",
    "\n",
    "### Creating objects\n",
    "In python we use `=` to assign the value on the right-hand side, to an object name on the left. To reuse the value stored in the object, we simply call the object. Note that python is case sensitive and that `a` is not the same as `A`!"
   ]
  },
  {
   "cell_type": "code",
   "execution_count": 16,
   "metadata": {},
   "outputs": [
    {
     "data": {
      "text/plain": [
       "60"
      ]
     },
     "execution_count": 16,
     "metadata": {},
     "output_type": "execute_result"
    }
   ],
   "source": [
    "a = 10 * 6\n",
    "a"
   ]
  },
  {
   "cell_type": "code",
   "execution_count": 17,
   "metadata": {},
   "outputs": [
    {
     "data": {
      "text/plain": [
       "8"
      ]
     },
     "execution_count": 17,
     "metadata": {},
     "output_type": "execute_result"
    }
   ],
   "source": [
    "A = 2 + 6\n",
    "A"
   ]
  },
  {
   "cell_type": "markdown",
   "metadata": {},
   "source": [
    "The value of an object can be overwritten by simply assigning a different value to the same object name (no warning is given)."
   ]
  },
  {
   "cell_type": "code",
   "execution_count": 22,
   "metadata": {},
   "outputs": [
    {
     "data": {
      "text/plain": [
       "0"
      ]
     },
     "execution_count": 22,
     "metadata": {},
     "output_type": "execute_result"
    }
   ],
   "source": [
    "a = 0\n",
    "a"
   ]
  },
  {
   "cell_type": "markdown",
   "metadata": {},
   "source": [
    "### Naming objects\n",
    "How you name your objects is up to you, but there are some rules and recommendations. Firstly, you cannot start an object name with a number or punctuation character, and you should avoid punctuation characters anywhere in the name, with the exception of underscores (`_`). Object names should be a reminder of what value the object stores, so `elisa_data` is a better name than `x` for the same values. When you want your object to have two words in its name, the most common approaches are to use underscores to separate the words (known as snake case), or to capitalise the first letter of each subsequent word (known as camel case). Which you use is up to you, just remember to be consistent, and that python names are case sensitive. Try the naming options below. Can you predict which will result in an error?"
   ]
  },
  {
   "cell_type": "code",
   "execution_count": 28,
   "metadata": {},
   "outputs": [],
   "source": [
    "#1object <- 3\n",
    "#!object <- 3\n",
    "#-object <- 3\n",
    "#object1 <- 3\n",
    "#object! <- 3\n",
    "#my.object <- 3\n",
    "#my_object <- 3\n",
    "#myObject <- 3"
   ]
  },
  {
   "cell_type": "markdown",
   "metadata": {},
   "source": [
    "If you want to remove an object, you can use `del(object)`, e.g. `del(a)`.\n",
    "\n",
    "## Data types <a name=\"classes\"></a>\n",
    "Python can handle a variety of types of data. There are a few types to be aware of, because python will treat these types differently in different circumstances. These are:\n",
    "\n",
    "- integers (whole numbers)\n",
    "- floats (decimal numbers)\n",
    "- string (can contain letters and special characters)\n",
    "- Boolean (can only be `True` or `False`, note the difference in case to R)\n",
    "\n",
    "Python is usually able to tell what type a particular value should be. Run the code below to see what class each of the values belongs to."
   ]
  },
  {
   "cell_type": "code",
   "execution_count": 33,
   "metadata": {},
   "outputs": [
    {
     "data": {
      "text/plain": [
       "float"
      ]
     },
     "execution_count": 33,
     "metadata": {},
     "output_type": "execute_result"
    }
   ],
   "source": [
    "type(12)"
   ]
  },
  {
   "cell_type": "code",
   "execution_count": 34,
   "metadata": {},
   "outputs": [
    {
     "data": {
      "text/plain": [
       "float"
      ]
     },
     "execution_count": 34,
     "metadata": {},
     "output_type": "execute_result"
    }
   ],
   "source": [
    "type(12.6)"
   ]
  },
  {
   "cell_type": "code",
   "execution_count": 36,
   "metadata": {},
   "outputs": [
    {
     "data": {
      "text/plain": [
       "str"
      ]
     },
     "execution_count": 36,
     "metadata": {},
     "output_type": "execute_result"
    }
   ],
   "source": [
    "type('cytometry')"
   ]
  },
  {
   "cell_type": "code",
   "execution_count": 38,
   "metadata": {},
   "outputs": [
    {
     "data": {
      "text/plain": [
       "bool"
      ]
     },
     "execution_count": 38,
     "metadata": {},
     "output_type": "execute_result"
    }
   ],
   "source": [
    "type(True)"
   ]
  },
  {
   "cell_type": "markdown",
   "metadata": {},
   "source": [
    "So far we’ve only looked at data one value data time, but we usually need a way of storing and manipulating large amounts of data at the same time. We can do this using python’s data structures."
   ]
  },
  {
   "cell_type": "markdown",
   "metadata": {},
   "source": [
    "## Data structures<a name=\"structures\"></a>\n",
    "When we have multiple values or a table of values to work with, we can store them in one of a few different data structures in python. The first and most simple of which is the list."
   ]
  }
 ],
 "metadata": {
  "kernelspec": {
   "display_name": "Python 3",
   "language": "python",
   "name": "python3"
  },
  "language_info": {
   "name": "python",
   "version": "3.10.2"
  }
 },
 "nbformat": 4,
 "nbformat_minor": 2
}
